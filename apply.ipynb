{
 "cells": [
  {
   "cell_type": "markdown",
   "id": "3f2bff68-3cd0-4df1-818c-0eff7301694a",
   "metadata": {},
   "source": [
    "# The *apply family\n",
    "\n",
    "**lapply**: loops over a list and applies a function to every element of that list (returns a list)  \n",
    "**sapply**: a variant of lapply that simplifies the results (returns a vector or matrix if possible)  \n",
    "**apply**: a function that loops over the margins (rows or columns) of an array, useful for taking summaries of matrices or higher dimensional arrays  \n",
    "**tapply**: short for \"table apply\". Applies a function over subsets of a vector  \n",
    "\n",
    "**Sidebar: Anonymous functions**: functions used inside the `*apply` functions  \n",
    "\n",
    "## lapply\n",
    "\n",
    "Arguments of the `lapply` function:"
   ]
  },
  {
   "cell_type": "code",
   "execution_count": 35,
   "id": "f4bd1d77-32de-41c7-9d03-52dd1f932af6",
   "metadata": {
    "tags": []
   },
   "outputs": [
    {
     "data": {
      "text/html": [
       "<pre class=language-r><code>function (X, FUN, ...) \n",
       "NULL</code></pre>"
      ],
      "text/latex": [
       "\\begin{minted}{r}\n",
       "function (X, FUN, ...) \n",
       "NULL\n",
       "\\end{minted}"
      ],
      "text/markdown": [
       "```r\n",
       "function (X, FUN, ...) \n",
       "NULL\n",
       "```"
      ],
      "text/plain": [
       "function (X, FUN, ...) \n",
       "NULL"
      ]
     },
     "metadata": {},
     "output_type": "display_data"
    }
   ],
   "source": [
    "args(lapply)"
   ]
  },
  {
   "cell_type": "markdown",
   "id": "7ebdf1a0-5428-47e0-a3b5-2a4c434f8f73",
   "metadata": {},
   "source": [
    "`lapply` takes three arguments:  \n",
    "\n",
    "* `x` a list   \n",
    "* `FUN` a function   \n",
    "* `...` which can be used to pass arguments to the function   \n",
    " \n",
    " If `x` is not a list it will be coerced to a list and `lapply` always returns a list. \n",
    "\n",
    "**Example:** Looping over a list with three elements, _a_, _b_ and _c_ and taking the mean of each."
   ]
  },
  {
   "cell_type": "code",
   "execution_count": 7,
   "id": "c6ca52f5-9ce9-4fa9-a7ce-d0f533e0c667",
   "metadata": {},
   "outputs": [
    {
     "data": {
      "text/html": [
       "<style>\n",
       ".dl-inline {width: auto; margin:0; padding: 0}\n",
       ".dl-inline>dt, .dl-inline>dd {float: none; width: auto; display: inline-block}\n",
       ".dl-inline>dt::after {content: \":\\0020\"; padding-right: .5ex}\n",
       ".dl-inline>dt:not(:first-of-type) {padding-left: .5ex}\n",
       "</style><dl class=dl-inline><dt>a</dt><dd>50.5</dd><dt>b</dt><dd>10.1841618422179</dd><dt>c</dt><dd>19.6690844359009</dd></dl>\n"
      ],
      "text/latex": [
       "\\begin{description*}\n",
       "\\item[a] 50.5\n",
       "\\item[b] 10.1841618422179\n",
       "\\item[c] 19.6690844359009\n",
       "\\end{description*}\n"
      ],
      "text/markdown": [
       "a\n",
       ":   50.5b\n",
       ":   10.1841618422179c\n",
       ":   19.6690844359009\n",
       "\n"
      ],
      "text/plain": [
       "       a        b        c \n",
       "50.50000 10.18416 19.66908 "
      ]
     },
     "metadata": {},
     "output_type": "display_data"
    }
   ],
   "source": [
    "# Create a list of three vectors\n",
    "my_list <- (list(a = 1:100, b = rnorm(100, 10, 4), c = rnorm(100, 20, 5)))\n",
    "\n",
    "# Take the mean of each vector\n",
    "sapply(my_list, mean)"
   ]
  },
  {
   "cell_type": "markdown",
   "id": "9043204b-e234-4d60-8e3d-522910bed02e",
   "metadata": {},
   "source": [
    "**Example:** R will loop over vector _x_ and generate x number of random normal variables for each loop. "
   ]
  },
  {
   "cell_type": "code",
   "execution_count": 8,
   "id": "d78c0821-bf86-4c14-a6f3-76ef21cbf2e4",
   "metadata": {},
   "outputs": [
    {
     "data": {
      "text/html": [
       "<ol>\n",
       "\t<li>0.205900999363797</li>\n",
       "\t<li><style>\n",
       ".list-inline {list-style: none; margin:0; padding: 0}\n",
       ".list-inline>li {display: inline-block}\n",
       ".list-inline>li:not(:last-child)::after {content: \"\\00b7\"; padding: 0 .5ex}\n",
       "</style>\n",
       "<ol class=list-inline><li>-1.68546741568579</li><li>-0.256230449542938</li></ol>\n",
       "</li>\n",
       "\t<li><style>\n",
       ".list-inline {list-style: none; margin:0; padding: 0}\n",
       ".list-inline>li {display: inline-block}\n",
       ".list-inline>li:not(:last-child)::after {content: \"\\00b7\"; padding: 0 .5ex}\n",
       "</style>\n",
       "<ol class=list-inline><li>0.405781790494979</li><li>1.11917137358978</li><li>0.366774079294126</li></ol>\n",
       "</li>\n",
       "\t<li><style>\n",
       ".list-inline {list-style: none; margin:0; padding: 0}\n",
       ".list-inline>li {display: inline-block}\n",
       ".list-inline>li:not(:last-child)::after {content: \"\\00b7\"; padding: 0 .5ex}\n",
       "</style>\n",
       "<ol class=list-inline><li>2.09950338491805</li><li>-1.73956622825628</li><li>-0.98172862534175</li><li>-0.499534382657877</li></ol>\n",
       "</li>\n",
       "\t<li><style>\n",
       ".list-inline {list-style: none; margin:0; padding: 0}\n",
       ".list-inline>li {display: inline-block}\n",
       ".list-inline>li:not(:last-child)::after {content: \"\\00b7\"; padding: 0 .5ex}\n",
       "</style>\n",
       "<ol class=list-inline><li>0.809013297063344</li><li>0.873554757469525</li><li>0.0288270980974098</li><li>-0.699862083319064</li><li>1.73026616543467</li></ol>\n",
       "</li>\n",
       "</ol>\n"
      ],
      "text/latex": [
       "\\begin{enumerate}\n",
       "\\item 0.205900999363797\n",
       "\\item \\begin{enumerate*}\n",
       "\\item -1.68546741568579\n",
       "\\item -0.256230449542938\n",
       "\\end{enumerate*}\n",
       "\n",
       "\\item \\begin{enumerate*}\n",
       "\\item 0.405781790494979\n",
       "\\item 1.11917137358978\n",
       "\\item 0.366774079294126\n",
       "\\end{enumerate*}\n",
       "\n",
       "\\item \\begin{enumerate*}\n",
       "\\item 2.09950338491805\n",
       "\\item -1.73956622825628\n",
       "\\item -0.98172862534175\n",
       "\\item -0.499534382657877\n",
       "\\end{enumerate*}\n",
       "\n",
       "\\item \\begin{enumerate*}\n",
       "\\item 0.809013297063344\n",
       "\\item 0.873554757469525\n",
       "\\item 0.0288270980974098\n",
       "\\item -0.699862083319064\n",
       "\\item 1.73026616543467\n",
       "\\end{enumerate*}\n",
       "\n",
       "\\end{enumerate}\n"
      ],
      "text/markdown": [
       "1. 0.205900999363797\n",
       "2. 1. -1.68546741568579\n",
       "2. -0.256230449542938\n",
       "\n",
       "\n",
       "\n",
       "3. 1. 0.405781790494979\n",
       "2. 1.11917137358978\n",
       "3. 0.366774079294126\n",
       "\n",
       "\n",
       "\n",
       "4. 1. 2.09950338491805\n",
       "2. -1.73956622825628\n",
       "3. -0.98172862534175\n",
       "4. -0.499534382657877\n",
       "\n",
       "\n",
       "\n",
       "5. 1. 0.809013297063344\n",
       "2. 0.873554757469525\n",
       "3. 0.0288270980974098\n",
       "4. -0.699862083319064\n",
       "5. 1.73026616543467\n",
       "\n",
       "\n",
       "\n",
       "\n",
       "\n"
      ],
      "text/plain": [
       "[[1]]\n",
       "[1] 0.205901\n",
       "\n",
       "[[2]]\n",
       "[1] -1.6854674 -0.2562304\n",
       "\n",
       "[[3]]\n",
       "[1] 0.4057818 1.1191714 0.3667741\n",
       "\n",
       "[[4]]\n",
       "[1]  2.0995034 -1.7395662 -0.9817286 -0.4995344\n",
       "\n",
       "[[5]]\n",
       "[1]  0.8090133  0.8735548  0.0288271 -0.6998621  1.7302662\n"
      ]
     },
     "metadata": {},
     "output_type": "display_data"
    }
   ],
   "source": [
    "# Create vector (1, 2, 3, 4, 5)\n",
    "x <- 1:5\n",
    "\n",
    "# Generate a list with five elements, each containing x number of random normal variables\n",
    "lapply(x, rnorm)"
   ]
  },
  {
   "cell_type": "markdown",
   "id": "66a5da38-30fb-4f46-bc07-24cf638c95da",
   "metadata": {},
   "source": [
    "**Example cont.:** We can specify the arguments of the function in FUN by passing them to the `...` argument."
   ]
  },
  {
   "cell_type": "code",
   "execution_count": 9,
   "id": "3c674e50-5292-4dbc-8a2f-d6a92d957abd",
   "metadata": {},
   "outputs": [
    {
     "data": {
      "text/html": [
       "<ol>\n",
       "\t<li>10.6148457650124</li>\n",
       "\t<li><style>\n",
       ".list-inline {list-style: none; margin:0; padding: 0}\n",
       ".list-inline>li {display: inline-block}\n",
       ".list-inline>li:not(:last-child)::after {content: \"\\00b7\"; padding: 0 .5ex}\n",
       "</style>\n",
       "<ol class=list-inline><li>12.1373625808464</li><li>12.7314654021785</li></ol>\n",
       "</li>\n",
       "\t<li><style>\n",
       ".list-inline {list-style: none; margin:0; padding: 0}\n",
       ".list-inline>li {display: inline-block}\n",
       ".list-inline>li:not(:last-child)::after {content: \"\\00b7\"; padding: 0 .5ex}\n",
       "</style>\n",
       "<ol class=list-inline><li>10.4101007412841</li><li>8.8599045599969</li><li>10.7070687130984</li></ol>\n",
       "</li>\n",
       "\t<li><style>\n",
       ".list-inline {list-style: none; margin:0; padding: 0}\n",
       ".list-inline>li {display: inline-block}\n",
       ".list-inline>li:not(:last-child)::after {content: \"\\00b7\"; padding: 0 .5ex}\n",
       "</style>\n",
       "<ol class=list-inline><li>7.9637820345032</li><li>7.65932469027739</li><li>12.5692751530963</li><li>10.3166003586595</li></ol>\n",
       "</li>\n",
       "\t<li><style>\n",
       ".list-inline {list-style: none; margin:0; padding: 0}\n",
       ".list-inline>li {display: inline-block}\n",
       ".list-inline>li:not(:last-child)::after {content: \"\\00b7\"; padding: 0 .5ex}\n",
       "</style>\n",
       "<ol class=list-inline><li>10.7929761473518</li><li>8.45975422347107</li><li>6.9564624636127</li><li>12.2197753865727</li><li>11.0680026583449</li></ol>\n",
       "</li>\n",
       "</ol>\n"
      ],
      "text/latex": [
       "\\begin{enumerate}\n",
       "\\item 10.6148457650124\n",
       "\\item \\begin{enumerate*}\n",
       "\\item 12.1373625808464\n",
       "\\item 12.7314654021785\n",
       "\\end{enumerate*}\n",
       "\n",
       "\\item \\begin{enumerate*}\n",
       "\\item 10.4101007412841\n",
       "\\item 8.8599045599969\n",
       "\\item 10.7070687130984\n",
       "\\end{enumerate*}\n",
       "\n",
       "\\item \\begin{enumerate*}\n",
       "\\item 7.9637820345032\n",
       "\\item 7.65932469027739\n",
       "\\item 12.5692751530963\n",
       "\\item 10.3166003586595\n",
       "\\end{enumerate*}\n",
       "\n",
       "\\item \\begin{enumerate*}\n",
       "\\item 10.7929761473518\n",
       "\\item 8.45975422347107\n",
       "\\item 6.9564624636127\n",
       "\\item 12.2197753865727\n",
       "\\item 11.0680026583449\n",
       "\\end{enumerate*}\n",
       "\n",
       "\\end{enumerate}\n"
      ],
      "text/markdown": [
       "1. 10.6148457650124\n",
       "2. 1. 12.1373625808464\n",
       "2. 12.7314654021785\n",
       "\n",
       "\n",
       "\n",
       "3. 1. 10.4101007412841\n",
       "2. 8.8599045599969\n",
       "3. 10.7070687130984\n",
       "\n",
       "\n",
       "\n",
       "4. 1. 7.9637820345032\n",
       "2. 7.65932469027739\n",
       "3. 12.5692751530963\n",
       "4. 10.3166003586595\n",
       "\n",
       "\n",
       "\n",
       "5. 1. 10.7929761473518\n",
       "2. 8.45975422347107\n",
       "3. 6.9564624636127\n",
       "4. 12.2197753865727\n",
       "5. 11.0680026583449\n",
       "\n",
       "\n",
       "\n",
       "\n",
       "\n"
      ],
      "text/plain": [
       "[[1]]\n",
       "[1] 10.61485\n",
       "\n",
       "[[2]]\n",
       "[1] 12.13736 12.73147\n",
       "\n",
       "[[3]]\n",
       "[1] 10.410101  8.859905 10.707069\n",
       "\n",
       "[[4]]\n",
       "[1]  7.963782  7.659325 12.569275 10.316600\n",
       "\n",
       "[[5]]\n",
       "[1] 10.792976  8.459754  6.956462 12.219775 11.068003\n"
      ]
     },
     "metadata": {},
     "output_type": "display_data"
    }
   ],
   "source": [
    "# Generate numbers from the normal distribution with mean 10 and sd 2\n",
    "x <- 1:5\n",
    "lapply(x, rnorm, mean = 10, sd = 2) #default is mean = 0 and sd = 1"
   ]
  },
  {
   "cell_type": "markdown",
   "id": "17db5ee4-1fbd-477a-a383-b61eb358f379",
   "metadata": {},
   "source": [
    "## Sidebar: Anonymous Functions\n",
    "\n",
    "The `*apply` family functions make heavy use of anonymous functions. If we want to apply a function that does not already exist as a function in R, we need to write our own function directly within the apply function.     \n",
    "\n",
    "**Example:** Let us say we have two matrices and we want to extract a specific row or column, we can do this by passing an anonymous function. "
   ]
  },
  {
   "cell_type": "code",
   "execution_count": 36,
   "id": "8e8219f3-7c02-4320-994c-35a06eb6597f",
   "metadata": {},
   "outputs": [
    {
     "data": {
      "text/html": [
       "<ol>\n",
       "\t<li><table class=\"dataframe\">\n",
       "<caption>A matrix: 2 × 2 of type int</caption>\n",
       "<tbody>\n",
       "\t<tr><td>1</td><td>3</td></tr>\n",
       "\t<tr><td>2</td><td>4</td></tr>\n",
       "</tbody>\n",
       "</table>\n",
       "</li>\n",
       "\t<li><table class=\"dataframe\">\n",
       "<caption>A matrix: 3 × 3 of type int</caption>\n",
       "<tbody>\n",
       "\t<tr><td>1</td><td>4</td><td>7</td></tr>\n",
       "\t<tr><td>2</td><td>5</td><td>8</td></tr>\n",
       "\t<tr><td>3</td><td>6</td><td>9</td></tr>\n",
       "</tbody>\n",
       "</table>\n",
       "</li>\n",
       "</ol>\n"
      ],
      "text/latex": [
       "\\begin{enumerate}\n",
       "\\item A matrix: 2 × 2 of type int\n",
       "\\begin{tabular}{ll}\n",
       "\t 1 & 3\\\\\n",
       "\t 2 & 4\\\\\n",
       "\\end{tabular}\n",
       "\n",
       "\\item A matrix: 3 × 3 of type int\n",
       "\\begin{tabular}{lll}\n",
       "\t 1 & 4 & 7\\\\\n",
       "\t 2 & 5 & 8\\\\\n",
       "\t 3 & 6 & 9\\\\\n",
       "\\end{tabular}\n",
       "\n",
       "\\end{enumerate}\n"
      ],
      "text/markdown": [
       "1. \n",
       "A matrix: 2 × 2 of type int\n",
       "\n",
       "| 1 | 3 |\n",
       "| 2 | 4 |\n",
       "\n",
       "\n",
       "2. \n",
       "A matrix: 3 × 3 of type int\n",
       "\n",
       "| 1 | 4 | 7 |\n",
       "| 2 | 5 | 8 |\n",
       "| 3 | 6 | 9 |\n",
       "\n",
       "\n",
       "\n",
       "\n"
      ],
      "text/plain": [
       "[[1]]\n",
       "     [,1] [,2]\n",
       "[1,]    1    3\n",
       "[2,]    2    4\n",
       "\n",
       "[[2]]\n",
       "     [,1] [,2] [,3]\n",
       "[1,]    1    4    7\n",
       "[2,]    2    5    8\n",
       "[3,]    3    6    9\n"
      ]
     },
     "metadata": {},
     "output_type": "display_data"
    }
   ],
   "source": [
    "# Create a list of two matrices\n",
    "mat_list <- list(matrix(1:4, nrow = 2), matrix(1:9, nrow = 3))\n",
    "\n",
    "# View the matrices\n",
    "mat_list"
   ]
  },
  {
   "cell_type": "markdown",
   "id": "3a818289-7d36-47ea-81f1-dfbfa0f78595",
   "metadata": {},
   "source": [
    "Here we extract the second row from each matrix by adding the anonymous function to the lapply function."
   ]
  },
  {
   "cell_type": "code",
   "execution_count": 37,
   "id": "ee9af4a2-08f7-4170-b57f-a1d829c0cf56",
   "metadata": {},
   "outputs": [
    {
     "data": {
      "text/html": [
       "<ol>\n",
       "\t<li><style>\n",
       ".list-inline {list-style: none; margin:0; padding: 0}\n",
       ".list-inline>li {display: inline-block}\n",
       ".list-inline>li:not(:last-child)::after {content: \"\\00b7\"; padding: 0 .5ex}\n",
       "</style>\n",
       "<ol class=list-inline><li>2</li><li>4</li></ol>\n",
       "</li>\n",
       "\t<li><style>\n",
       ".list-inline {list-style: none; margin:0; padding: 0}\n",
       ".list-inline>li {display: inline-block}\n",
       ".list-inline>li:not(:last-child)::after {content: \"\\00b7\"; padding: 0 .5ex}\n",
       "</style>\n",
       "<ol class=list-inline><li>2</li><li>5</li><li>8</li></ol>\n",
       "</li>\n",
       "</ol>\n"
      ],
      "text/latex": [
       "\\begin{enumerate}\n",
       "\\item \\begin{enumerate*}\n",
       "\\item 2\n",
       "\\item 4\n",
       "\\end{enumerate*}\n",
       "\n",
       "\\item \\begin{enumerate*}\n",
       "\\item 2\n",
       "\\item 5\n",
       "\\item 8\n",
       "\\end{enumerate*}\n",
       "\n",
       "\\end{enumerate}\n"
      ],
      "text/markdown": [
       "1. 1. 2\n",
       "2. 4\n",
       "\n",
       "\n",
       "\n",
       "2. 1. 2\n",
       "2. 5\n",
       "3. 8\n",
       "\n",
       "\n",
       "\n",
       "\n",
       "\n"
      ],
      "text/plain": [
       "[[1]]\n",
       "[1] 2 4\n",
       "\n",
       "[[2]]\n",
       "[1] 2 5 8\n"
      ]
     },
     "metadata": {},
     "output_type": "display_data"
    }
   ],
   "source": [
    "# Extract the second rows\n",
    "lapply(mat_list, function(row2) row2[2,])"
   ]
  },
  {
   "cell_type": "markdown",
   "id": "97313fb9-567d-47d5-8eb2-7d586044508d",
   "metadata": {},
   "source": [
    "## sapply\n",
    "The only difference from `lapply` is that `sapply` always tries to simplify the result if possible. The output of the `lapply` function is always a list. The output in `sapply` will be:  \n",
    "\n",
    "* If the result is a list where each element is length 1: a vector  \n",
    "* If the result is a list where each element is a vector of same length > 1: a matrix  \n",
    "* Otherwise a list   \n",
    "\n",
    "**Example:** result is a vector  \n",
    "Taking the mean of each element in the list. "
   ]
  },
  {
   "cell_type": "code",
   "execution_count": 38,
   "id": "56ebb784-03e6-4c49-a08c-cce008c59ae7",
   "metadata": {},
   "outputs": [
    {
     "data": {
      "text/html": [
       "<style>\n",
       ".dl-inline {width: auto; margin:0; padding: 0}\n",
       ".dl-inline>dt, .dl-inline>dd {float: none; width: auto; display: inline-block}\n",
       ".dl-inline>dt::after {content: \":\\0020\"; padding-right: .5ex}\n",
       ".dl-inline>dt:not(:first-of-type) {padding-left: .5ex}\n",
       "</style><dl class=dl-inline><dt>a</dt><dd>5.5</dd><dt>b</dt><dd>15.5</dd><dt>c</dt><dd>25.5</dd><dt>d</dt><dd>35.5</dd></dl>\n"
      ],
      "text/latex": [
       "\\begin{description*}\n",
       "\\item[a] 5.5\n",
       "\\item[b] 15.5\n",
       "\\item[c] 25.5\n",
       "\\item[d] 35.5\n",
       "\\end{description*}\n"
      ],
      "text/markdown": [
       "a\n",
       ":   5.5b\n",
       ":   15.5c\n",
       ":   25.5d\n",
       ":   35.5\n",
       "\n"
      ],
      "text/plain": [
       "   a    b    c    d \n",
       " 5.5 15.5 25.5 35.5 "
      ]
     },
     "metadata": {},
     "output_type": "display_data"
    }
   ],
   "source": [
    "# This funciton gives two elements of length 1, result as a vector\n",
    "my_list <- (list(a = 1:10, b = 11:20, c = 21:30, d = 31:40))\n",
    "sapply(my_list, mean)"
   ]
  },
  {
   "cell_type": "markdown",
   "id": "9ea4033d-78f7-4841-a933-b17941e24165",
   "metadata": {},
   "source": [
    "**Example:** result is a matrix  \n",
    "Extracting the first columns from each element in the list."
   ]
  },
  {
   "cell_type": "code",
   "execution_count": 39,
   "id": "fd2c6d29-1ec9-440d-81a6-a7350992888c",
   "metadata": {},
   "outputs": [
    {
     "data": {
      "text/html": [
       "<table class=\"dataframe\">\n",
       "<caption>A matrix: 2 × 3 of type int</caption>\n",
       "<tbody>\n",
       "\t<tr><td>1</td><td>5</td><td> 9</td></tr>\n",
       "\t<tr><td>2</td><td>6</td><td>10</td></tr>\n",
       "</tbody>\n",
       "</table>\n"
      ],
      "text/latex": [
       "A matrix: 2 × 3 of type int\n",
       "\\begin{tabular}{lll}\n",
       "\t 1 & 5 &  9\\\\\n",
       "\t 2 & 6 & 10\\\\\n",
       "\\end{tabular}\n"
      ],
      "text/markdown": [
       "\n",
       "A matrix: 2 × 3 of type int\n",
       "\n",
       "| 1 | 5 |  9 |\n",
       "| 2 | 6 | 10 |\n",
       "\n"
      ],
      "text/plain": [
       "     [,1] [,2] [,3]\n",
       "[1,] 1    5     9  \n",
       "[2,] 2    6    10  "
      ]
     },
     "metadata": {},
     "output_type": "display_data"
    }
   ],
   "source": [
    "# Create three 2x2 matrices\n",
    "mat3 <- list(matrix(1:4, 2, 2), matrix(5:8, 2, 2), matrix(9:12, 2, 2))\n",
    "\n",
    "# Using an anonymous function. sapply gives three vectors of equal length 2, result is a matrix\n",
    "sapply(mat3, function(col1) col1[, 1])"
   ]
  },
  {
   "cell_type": "markdown",
   "id": "f2b620e1-e766-47aa-b89a-e8dc9fd4936c",
   "metadata": {},
   "source": [
    "## apply\n",
    "Used to evaluate a function over the **margins** of an array (most commonly applied to rows or columns of matrices or higher dimensional arrays). "
   ]
  },
  {
   "cell_type": "code",
   "execution_count": 34,
   "id": "e9631d7c-29f2-4e19-ae34-ecc28f49e839",
   "metadata": {},
   "outputs": [
    {
     "data": {
      "text/html": [
       "<pre class=language-r><code>function (X, MARGIN, FUN, ..., simplify = TRUE) \n",
       "NULL</code></pre>"
      ],
      "text/latex": [
       "\\begin{minted}{r}\n",
       "function (X, MARGIN, FUN, ..., simplify = TRUE) \n",
       "NULL\n",
       "\\end{minted}"
      ],
      "text/markdown": [
       "```r\n",
       "function (X, MARGIN, FUN, ..., simplify = TRUE) \n",
       "NULL\n",
       "```"
      ],
      "text/plain": [
       "function (X, MARGIN, FUN, ..., simplify = TRUE) \n",
       "NULL"
      ]
     },
     "metadata": {},
     "output_type": "display_data"
    }
   ],
   "source": [
    "# Show arguments for apply\n",
    "args(apply)"
   ]
  },
  {
   "cell_type": "markdown",
   "id": "19454908-d7a5-4acb-a24e-cdc78856c8ee",
   "metadata": {},
   "source": [
    "The argument MARGIN specifies which margin that should be retained. 1 loops over the rows and 2 loops over the columns. "
   ]
  },
  {
   "cell_type": "code",
   "execution_count": 32,
   "id": "b67bb0ce-87d7-404a-91dc-535dbd828246",
   "metadata": {},
   "outputs": [
    {
     "data": {
      "text/html": [
       "<table class=\"dataframe\">\n",
       "<caption>A matrix: 10 × 5 of type dbl</caption>\n",
       "<tbody>\n",
       "\t<tr><td>1.883313</td><td>7.704569</td><td>4.996195</td><td>4.569993</td><td>4.872784</td></tr>\n",
       "\t<tr><td>7.130496</td><td>1.549730</td><td>7.020631</td><td>6.872292</td><td>8.824662</td></tr>\n",
       "\t<tr><td>1.164540</td><td>2.499555</td><td>9.994835</td><td>3.181994</td><td>1.582313</td></tr>\n",
       "\t<tr><td>6.398221</td><td>4.513965</td><td>8.713884</td><td>1.773331</td><td>3.356024</td></tr>\n",
       "\t<tr><td>5.664921</td><td>4.697765</td><td>1.235739</td><td>3.390958</td><td>8.906645</td></tr>\n",
       "\t<tr><td>5.890806</td><td>3.811863</td><td>7.317832</td><td>9.712688</td><td>7.690257</td></tr>\n",
       "\t<tr><td>5.834597</td><td>3.439693</td><td>4.548112</td><td>4.237360</td><td>6.444859</td></tr>\n",
       "\t<tr><td>9.631131</td><td>7.752691</td><td>2.305237</td><td>3.516332</td><td>5.846555</td></tr>\n",
       "\t<tr><td>4.456253</td><td>3.465578</td><td>8.303156</td><td>6.624824</td><td>3.608823</td></tr>\n",
       "\t<tr><td>8.814388</td><td>1.873715</td><td>8.121180</td><td>3.548439</td><td>5.349127</td></tr>\n",
       "</tbody>\n",
       "</table>\n"
      ],
      "text/latex": [
       "A matrix: 10 × 5 of type dbl\n",
       "\\begin{tabular}{lllll}\n",
       "\t 1.883313 & 7.704569 & 4.996195 & 4.569993 & 4.872784\\\\\n",
       "\t 7.130496 & 1.549730 & 7.020631 & 6.872292 & 8.824662\\\\\n",
       "\t 1.164540 & 2.499555 & 9.994835 & 3.181994 & 1.582313\\\\\n",
       "\t 6.398221 & 4.513965 & 8.713884 & 1.773331 & 3.356024\\\\\n",
       "\t 5.664921 & 4.697765 & 1.235739 & 3.390958 & 8.906645\\\\\n",
       "\t 5.890806 & 3.811863 & 7.317832 & 9.712688 & 7.690257\\\\\n",
       "\t 5.834597 & 3.439693 & 4.548112 & 4.237360 & 6.444859\\\\\n",
       "\t 9.631131 & 7.752691 & 2.305237 & 3.516332 & 5.846555\\\\\n",
       "\t 4.456253 & 3.465578 & 8.303156 & 6.624824 & 3.608823\\\\\n",
       "\t 8.814388 & 1.873715 & 8.121180 & 3.548439 & 5.349127\\\\\n",
       "\\end{tabular}\n"
      ],
      "text/markdown": [
       "\n",
       "A matrix: 10 × 5 of type dbl\n",
       "\n",
       "| 1.883313 | 7.704569 | 4.996195 | 4.569993 | 4.872784 |\n",
       "| 7.130496 | 1.549730 | 7.020631 | 6.872292 | 8.824662 |\n",
       "| 1.164540 | 2.499555 | 9.994835 | 3.181994 | 1.582313 |\n",
       "| 6.398221 | 4.513965 | 8.713884 | 1.773331 | 3.356024 |\n",
       "| 5.664921 | 4.697765 | 1.235739 | 3.390958 | 8.906645 |\n",
       "| 5.890806 | 3.811863 | 7.317832 | 9.712688 | 7.690257 |\n",
       "| 5.834597 | 3.439693 | 4.548112 | 4.237360 | 6.444859 |\n",
       "| 9.631131 | 7.752691 | 2.305237 | 3.516332 | 5.846555 |\n",
       "| 4.456253 | 3.465578 | 8.303156 | 6.624824 | 3.608823 |\n",
       "| 8.814388 | 1.873715 | 8.121180 | 3.548439 | 5.349127 |\n",
       "\n"
      ],
      "text/plain": [
       "      [,1]     [,2]     [,3]     [,4]     [,5]    \n",
       " [1,] 1.883313 7.704569 4.996195 4.569993 4.872784\n",
       " [2,] 7.130496 1.549730 7.020631 6.872292 8.824662\n",
       " [3,] 1.164540 2.499555 9.994835 3.181994 1.582313\n",
       " [4,] 6.398221 4.513965 8.713884 1.773331 3.356024\n",
       " [5,] 5.664921 4.697765 1.235739 3.390958 8.906645\n",
       " [6,] 5.890806 3.811863 7.317832 9.712688 7.690257\n",
       " [7,] 5.834597 3.439693 4.548112 4.237360 6.444859\n",
       " [8,] 9.631131 7.752691 2.305237 3.516332 5.846555\n",
       " [9,] 4.456253 3.465578 8.303156 6.624824 3.608823\n",
       "[10,] 8.814388 1.873715 8.121180 3.548439 5.349127"
      ]
     },
     "metadata": {},
     "output_type": "display_data"
    }
   ],
   "source": [
    "# 10x5 matrix of random variables from the uniform dist between 1 and 10\n",
    "my_uniform_mat <- matrix(runif(50, 1, 10), nrow = 10, ncol = 5)\n",
    "my_uniform_mat\n"
   ]
  },
  {
   "cell_type": "code",
   "execution_count": 33,
   "id": "3f8456fd-ce76-44d9-836f-ab1aa3c04e2b",
   "metadata": {},
   "outputs": [
    {
     "data": {
      "text/html": [
       "<style>\n",
       ".list-inline {list-style: none; margin:0; padding: 0}\n",
       ".list-inline>li {display: inline-block}\n",
       ".list-inline>li:not(:last-child)::after {content: \"\\00b7\"; padding: 0 .5ex}\n",
       "</style>\n",
       "<ol class=list-inline><li>4.80537101984955</li><li>6.27956221573986</li><li>3.68464747103862</li><li>4.9510849150829</li><li>4.77920552985743</li><li>6.88468948150985</li><li>4.90092412885278</li><li>5.81038934104145</li><li>5.29172683376819</li><li>5.54136976152658</li></ol>\n"
      ],
      "text/latex": [
       "\\begin{enumerate*}\n",
       "\\item 4.80537101984955\n",
       "\\item 6.27956221573986\n",
       "\\item 3.68464747103862\n",
       "\\item 4.9510849150829\n",
       "\\item 4.77920552985743\n",
       "\\item 6.88468948150985\n",
       "\\item 4.90092412885278\n",
       "\\item 5.81038934104145\n",
       "\\item 5.29172683376819\n",
       "\\item 5.54136976152658\n",
       "\\end{enumerate*}\n"
      ],
      "text/markdown": [
       "1. 4.80537101984955\n",
       "2. 6.27956221573986\n",
       "3. 3.68464747103862\n",
       "4. 4.9510849150829\n",
       "5. 4.77920552985743\n",
       "6. 6.88468948150985\n",
       "7. 4.90092412885278\n",
       "8. 5.81038934104145\n",
       "9. 5.29172683376819\n",
       "10. 5.54136976152658\n",
       "\n",
       "\n"
      ],
      "text/plain": [
       " [1] 4.805371 6.279562 3.684647 4.951085 4.779206 6.884689 4.900924 5.810389\n",
       " [9] 5.291727 5.541370"
      ]
     },
     "metadata": {},
     "output_type": "display_data"
    },
    {
     "data": {
      "text/html": [
       "<style>\n",
       ".list-inline {list-style: none; margin:0; padding: 0}\n",
       ".list-inline>li {display: inline-block}\n",
       ".list-inline>li:not(:last-child)::after {content: \"\\00b7\"; padding: 0 .5ex}\n",
       "</style>\n",
       "<ol class=list-inline><li>5.68686672179028</li><li>4.13091255533509</li><li>6.25568009908311</li><li>4.74282109949272</li><li>5.6482048734324</li></ol>\n"
      ],
      "text/latex": [
       "\\begin{enumerate*}\n",
       "\\item 5.68686672179028\n",
       "\\item 4.13091255533509\n",
       "\\item 6.25568009908311\n",
       "\\item 4.74282109949272\n",
       "\\item 5.6482048734324\n",
       "\\end{enumerate*}\n"
      ],
      "text/markdown": [
       "1. 5.68686672179028\n",
       "2. 4.13091255533509\n",
       "3. 6.25568009908311\n",
       "4. 4.74282109949272\n",
       "5. 5.6482048734324\n",
       "\n",
       "\n"
      ],
      "text/plain": [
       "[1] 5.686867 4.130913 6.255680 4.742821 5.648205"
      ]
     },
     "metadata": {},
     "output_type": "display_data"
    }
   ],
   "source": [
    "# Means for all rows\n",
    "apply(my_uniform_mat, 1, mean)\n",
    "\n",
    "# Means for all columns\n",
    "apply(my_uniform_mat, 2, mean)"
   ]
  },
  {
   "cell_type": "markdown",
   "id": "b3a1cf27-7077-43e6-bc69-f42edc4e7b7a",
   "metadata": {},
   "source": [
    "There are already functions for row/col sums and means in R:  \n",
    "\n",
    "* rowRums = apply(x, 1, sum)    \n",
    "* colSums = apply(x, 2, sum)    \n",
    "* rowMeans = apply(x, 1, mean)    \n",
    "* colMeans = apply(x, 2, mean)    \n",
    "\n",
    "These are optimized and more efficient than using the apply function. But we can evaluate other functions such as quantiles.\n"
   ]
  },
  {
   "cell_type": "code",
   "execution_count": 40,
   "id": "5c1f8788-6149-4407-bd8d-85f0a4ab2db1",
   "metadata": {},
   "outputs": [
    {
     "data": {
      "text/html": [
       "<table class=\"dataframe\">\n",
       "<caption>A matrix: 2 × 20 of type dbl</caption>\n",
       "<tbody>\n",
       "\t<tr><th scope=row>25%</th><td> 8.509098</td><td> 7.889393</td><td> 2.965492</td><td> 8.175409</td><td> 7.734497</td><td> 4.671578</td><td> 7.412923</td><td> 2.268708</td><td> 7.904314</td><td> 2.00385</td><td>1.168130</td><td> 3.049885</td><td>3.256563</td><td> 4.62149</td><td> 1.061186</td><td> 1.633161</td><td> 5.216018</td><td> 2.821044</td><td> 9.882655</td><td> 5.830384</td></tr>\n",
       "\t<tr><th scope=row>75%</th><td>14.585824</td><td>14.557011</td><td>13.235647</td><td>15.372744</td><td>14.264659</td><td>15.246440</td><td>14.043561</td><td>13.695172</td><td>16.016827</td><td>14.19485</td><td>7.318384</td><td>14.025878</td><td>9.088141</td><td>10.57935</td><td>14.044954</td><td>11.960597</td><td>15.007202</td><td>10.617781</td><td>14.835662</td><td>13.143722</td></tr>\n",
       "</tbody>\n",
       "</table>\n"
      ],
      "text/latex": [
       "A matrix: 2 × 20 of type dbl\n",
       "\\begin{tabular}{r|llllllllllllllllllll}\n",
       "\t25\\% &  8.509098 &  7.889393 &  2.965492 &  8.175409 &  7.734497 &  4.671578 &  7.412923 &  2.268708 &  7.904314 &  2.00385 & 1.168130 &  3.049885 & 3.256563 &  4.62149 &  1.061186 &  1.633161 &  5.216018 &  2.821044 &  9.882655 &  5.830384\\\\\n",
       "\t75\\% & 14.585824 & 14.557011 & 13.235647 & 15.372744 & 14.264659 & 15.246440 & 14.043561 & 13.695172 & 16.016827 & 14.19485 & 7.318384 & 14.025878 & 9.088141 & 10.57935 & 14.044954 & 11.960597 & 15.007202 & 10.617781 & 14.835662 & 13.143722\\\\\n",
       "\\end{tabular}\n"
      ],
      "text/markdown": [
       "\n",
       "A matrix: 2 × 20 of type dbl\n",
       "\n",
       "| 25% |  8.509098 |  7.889393 |  2.965492 |  8.175409 |  7.734497 |  4.671578 |  7.412923 |  2.268708 |  7.904314 |  2.00385 | 1.168130 |  3.049885 | 3.256563 |  4.62149 |  1.061186 |  1.633161 |  5.216018 |  2.821044 |  9.882655 |  5.830384 |\n",
       "| 75% | 14.585824 | 14.557011 | 13.235647 | 15.372744 | 14.264659 | 15.246440 | 14.043561 | 13.695172 | 16.016827 | 14.19485 | 7.318384 | 14.025878 | 9.088141 | 10.57935 | 14.044954 | 11.960597 | 15.007202 | 10.617781 | 14.835662 | 13.143722 |\n",
       "\n"
      ],
      "text/plain": [
       "    [,1]      [,2]      [,3]      [,4]      [,5]      [,6]      [,7]     \n",
       "25%  8.509098  7.889393  2.965492  8.175409  7.734497  4.671578  7.412923\n",
       "75% 14.585824 14.557011 13.235647 15.372744 14.264659 15.246440 14.043561\n",
       "    [,8]      [,9]      [,10]    [,11]    [,12]     [,13]    [,14]    [,15]    \n",
       "25%  2.268708  7.904314  2.00385 1.168130  3.049885 3.256563  4.62149  1.061186\n",
       "75% 13.695172 16.016827 14.19485 7.318384 14.025878 9.088141 10.57935 14.044954\n",
       "    [,16]     [,17]     [,18]     [,19]     [,20]    \n",
       "25%  1.633161  5.216018  2.821044  9.882655  5.830384\n",
       "75% 11.960597 15.007202 10.617781 14.835662 13.143722"
      ]
     },
     "metadata": {},
     "output_type": "display_data"
    }
   ],
   "source": [
    "my_uni_mat <- matrix(runif(200, min= 0, max = 19), 20, 10)\n",
    "\n",
    "# Specifying which quantiles in the ... argument\n",
    "apply(my_uni_mat, 1, quantile, probs = c(0.25, 0.75))"
   ]
  },
  {
   "cell_type": "markdown",
   "id": "5fb35210-5ea0-4ec5-96c1-839b7b1d1fb3",
   "metadata": {},
   "source": [
    "Same as"
   ]
  },
  {
   "cell_type": "code",
   "execution_count": null,
   "id": "a5d50e16-c6ea-4f84-b6cf-115e743fc17f",
   "metadata": {
    "tags": []
   },
   "outputs": [],
   "source": [
    "rowMeans(x, dim = 2)"
   ]
  },
  {
   "cell_type": "markdown",
   "id": "5822ecd6-d1f9-4194-926c-c6e1424957b0",
   "metadata": {},
   "source": [
    "## tapply\n",
    "`tapply` applies a function over a subsets of a vector. For this we need to specify a vector (arg INDEX) to identify which elements of the numeric vector we are going to calculate something on.\n",
    "\n",
    "For example we can have a data set with men and women, and we want to evaluate the mean height for both groups respectively. "
   ]
  },
  {
   "cell_type": "code",
   "execution_count": 22,
   "id": "70b6ac2a-b57e-4a00-85e6-af04d7cc057c",
   "metadata": {},
   "outputs": [
    {
     "data": {
      "text/html": [
       "<pre class=language-r><code>function (X, INDEX, FUN = NULL, ..., default = NA, simplify = TRUE) \n",
       "NULL</code></pre>"
      ],
      "text/latex": [
       "\\begin{minted}{r}\n",
       "function (X, INDEX, FUN = NULL, ..., default = NA, simplify = TRUE) \n",
       "NULL\n",
       "\\end{minted}"
      ],
      "text/markdown": [
       "```r\n",
       "function (X, INDEX, FUN = NULL, ..., default = NA, simplify = TRUE) \n",
       "NULL\n",
       "```"
      ],
      "text/plain": [
       "function (X, INDEX, FUN = NULL, ..., default = NA, simplify = TRUE) \n",
       "NULL"
      ]
     },
     "metadata": {},
     "output_type": "display_data"
    }
   ],
   "source": [
    "args(tapply)"
   ]
  },
  {
   "cell_type": "markdown",
   "id": "1c55aab5-9c4e-4047-93e1-a4e1d604a596",
   "metadata": {},
   "source": [
    " * X: a vector  \n",
    " * INDEX: a factor or a list of factors  \n",
    " * FUN: the function we want to apply  \n",
    " * ... : other arguments to be passed to FUN  "
   ]
  },
  {
   "cell_type": "code",
   "execution_count": 42,
   "id": "cd9cee65-a937-4e8e-a8d2-dbfca879971e",
   "metadata": {},
   "outputs": [
    {
     "data": {
      "text/html": [
       "<table class=\"dataframe\">\n",
       "<caption>A data.frame: 8 × 4</caption>\n",
       "<thead>\n",
       "\t<tr><th scope=col>person</th><th scope=col>sex</th><th scope=col>height</th><th scope=col>nationality</th></tr>\n",
       "\t<tr><th scope=col>&lt;chr&gt;</th><th scope=col>&lt;fct&gt;</th><th scope=col>&lt;dbl&gt;</th><th scope=col>&lt;fct&gt;</th></tr>\n",
       "</thead>\n",
       "<tbody>\n",
       "\t<tr><td>Kalle </td><td>Male  </td><td>195</td><td>Swedish  </td></tr>\n",
       "\t<tr><td>Anders</td><td>Male  </td><td>190</td><td>Swedish  </td></tr>\n",
       "\t<tr><td>Karin </td><td>Female</td><td>155</td><td>Norwegian</td></tr>\n",
       "\t<tr><td>Sigrid</td><td>Female</td><td>165</td><td>Danish   </td></tr>\n",
       "\t<tr><td>Herman</td><td>Male  </td><td>178</td><td>Swedish  </td></tr>\n",
       "\t<tr><td>Pelle </td><td>Male  </td><td>201</td><td>Danish   </td></tr>\n",
       "\t<tr><td>Hanna </td><td>Female</td><td>169</td><td>Swedish  </td></tr>\n",
       "\t<tr><td>Anna  </td><td>Female</td><td>170</td><td>Danish   </td></tr>\n",
       "</tbody>\n",
       "</table>\n"
      ],
      "text/latex": [
       "A data.frame: 8 × 4\n",
       "\\begin{tabular}{llll}\n",
       " person & sex & height & nationality\\\\\n",
       " <chr> & <fct> & <dbl> & <fct>\\\\\n",
       "\\hline\n",
       "\t Kalle  & Male   & 195 & Swedish  \\\\\n",
       "\t Anders & Male   & 190 & Swedish  \\\\\n",
       "\t Karin  & Female & 155 & Norwegian\\\\\n",
       "\t Sigrid & Female & 165 & Danish   \\\\\n",
       "\t Herman & Male   & 178 & Swedish  \\\\\n",
       "\t Pelle  & Male   & 201 & Danish   \\\\\n",
       "\t Hanna  & Female & 169 & Swedish  \\\\\n",
       "\t Anna   & Female & 170 & Danish   \\\\\n",
       "\\end{tabular}\n"
      ],
      "text/markdown": [
       "\n",
       "A data.frame: 8 × 4\n",
       "\n",
       "| person &lt;chr&gt; | sex &lt;fct&gt; | height &lt;dbl&gt; | nationality &lt;fct&gt; |\n",
       "|---|---|---|---|\n",
       "| Kalle  | Male   | 195 | Swedish   |\n",
       "| Anders | Male   | 190 | Swedish   |\n",
       "| Karin  | Female | 155 | Norwegian |\n",
       "| Sigrid | Female | 165 | Danish    |\n",
       "| Herman | Male   | 178 | Swedish   |\n",
       "| Pelle  | Male   | 201 | Danish    |\n",
       "| Hanna  | Female | 169 | Swedish   |\n",
       "| Anna   | Female | 170 | Danish    |\n",
       "\n"
      ],
      "text/plain": [
       "  person sex    height nationality\n",
       "1 Kalle  Male   195    Swedish    \n",
       "2 Anders Male   190    Swedish    \n",
       "3 Karin  Female 155    Norwegian  \n",
       "4 Sigrid Female 165    Danish     \n",
       "5 Herman Male   178    Swedish    \n",
       "6 Pelle  Male   201    Danish     \n",
       "7 Hanna  Female 169    Swedish    \n",
       "8 Anna   Female 170    Danish     "
      ]
     },
     "metadata": {},
     "output_type": "display_data"
    }
   ],
   "source": [
    "# Create a data frame\n",
    "person <- c(\"Kalle\", \"Anders\", \"Karin\", \"Sigrid\", \"Herman\", \"Pelle\", \"Hanna\", \"Anna\")\n",
    "sex <- factor(c(\"Male\", \"Male\", \"Female\", \"Female\", \"Male\", \"Male\", \"Female\", \"Female\"))\n",
    "height <- c(195, 190, 155, 165, 178, 201, 169, 170)\n",
    "nationality <- factor(c(\"Swedish\", \"Swedish\", \"Norwegian\", \"Danish\", \"Swedish\", \"Danish\", \"Swedish\", \"Danish\"))\n",
    "\n",
    "my_df <- data.frame(person, sex, height, nationality)\n",
    "my_df\n"
   ]
  },
  {
   "cell_type": "code",
   "execution_count": 43,
   "id": "32b6eec6-bb4c-422c-a821-597c4085b356",
   "metadata": {},
   "outputs": [
    {
     "data": {
      "text/html": [
       "<style>\n",
       ".dl-inline {width: auto; margin:0; padding: 0}\n",
       ".dl-inline>dt, .dl-inline>dd {float: none; width: auto; display: inline-block}\n",
       ".dl-inline>dt::after {content: \":\\0020\"; padding-right: .5ex}\n",
       ".dl-inline>dt:not(:first-of-type) {padding-left: .5ex}\n",
       "</style><dl class=dl-inline><dt>Female</dt><dd>164.75</dd><dt>Male</dt><dd>191</dd></dl>\n"
      ],
      "text/latex": [
       "\\begin{description*}\n",
       "\\item[Female] 164.75\n",
       "\\item[Male] 191\n",
       "\\end{description*}\n"
      ],
      "text/markdown": [
       "Female\n",
       ":   164.75Male\n",
       ":   191\n",
       "\n"
      ],
      "text/plain": [
       "Female   Male \n",
       "164.75 191.00 "
      ]
     },
     "metadata": {},
     "output_type": "display_data"
    }
   ],
   "source": [
    "# Get the mean for each sex\n",
    "tapply(X = my_df$height, INDEX = sex, FUN = mean)"
   ]
  },
  {
   "cell_type": "markdown",
   "id": "a7a37806-730a-4c6b-a5b2-ac7cc4ad77b8",
   "metadata": {},
   "source": [
    "# Practical examples of using *apply \n",
    "\n",
    "## Example: Calculate power of a one-sample t-test\n",
    "\n",
    "The one sample t-test determines if an unknown population mean is different from a specific value. \n",
    "\n",
    "Doing hypothesis testing, power is the probability of rejecting a false null hypothesis. In other words, it gives the probability that the test will detect a true difference in means.  \n",
    "\n",
    "Using simulation we can actually evaluate a test's power since we will know the true value of the parameter, in this case the mean. \n",
    "\n",
    "Below we generate 1000 samples from the normal distribution with mean 1.75 and standard deviation sqrt(5/3). We test against null hypothesis that mean is 1 with significance level 95%. We do this for each of the 1000 samples by using the `apply` function, and calculate the proportion of times we reject the null hypothesis. We can see that the the test detects the difference 71% of the times. "
   ]
  },
  {
   "cell_type": "code",
   "execution_count": 24,
   "id": "08b53ca7-f463-4af6-8f83-53ddd8b42f61",
   "metadata": {},
   "outputs": [
    {
     "data": {
      "text/html": [
       "0.707"
      ],
      "text/latex": [
       "0.707"
      ],
      "text/markdown": [
       "0.707"
      ],
      "text/plain": [
       "[1] 0.707"
      ]
     },
     "metadata": {},
     "output_type": "display_data"
    }
   ],
   "source": [
    "# function to generate data from the normal distribution\n",
    "# S = number of samples\n",
    "# n = sample size\n",
    "# mu = mean\n",
    "# sigma = standard deviation\n",
    "generate.normal <- function(S,n,mu,sigma){\n",
    "  # generate one data sat, each row is one sample\n",
    "  data <- matrix(rnorm(n*S,mu,sigma), ncol = n, byrow = T) \n",
    "}\n",
    "\n",
    "\n",
    "# set seed and parameter values\n",
    "# generate 1000 samples from the normal distribution\n",
    "set.seed(28)\n",
    "S <- 1000\n",
    "n <- 20\n",
    "sigma <- sqrt(5/3)\n",
    "mu <- 1.75\n",
    "mu0 <- 1 #test generated data against this mean\n",
    "\n",
    "# generate data from normal\n",
    "data <- generate.normal(S, n, mu, sigma)\n",
    "\n",
    "# calculate test statistic for each sample\n",
    "# using apply here to gets the mean and variance for each sample in the generated data\n",
    "ttest_statistic <- (apply(data, 1, mean) - mu0) / sqrt(apply(data, 1, var) / n)\n",
    "\n",
    "# rejection area in the t-distribution\n",
    "# two sided test, alpha 0.05, n-1 degrees of freedom\n",
    "t05 <- qt(0.975, n-1)\n",
    "\n",
    "# calculate power of test (proportion of rejections)\n",
    "power <- sum(abs(ttest_statistic)>t05)/S\n",
    "power"
   ]
  },
  {
   "cell_type": "markdown",
   "id": "7f9ffd04-b540-4386-8298-45f4f1637020",
   "metadata": {},
   "source": [
    "For this parameter (normal with mean 1.75 and standard deviation sqrt(5/3)), using sample size of 20 and testing that the mean is 1, we will detect the difference in 71% of the times. \n",
    "\n",
    "\n",
    "### How large sample size is needed for the test? (Run the function over several values of one parameter)\n",
    "\n",
    "If we want to see how large sample size we need to get a desired power of at least 80 percent, we can make use of the `sapply` function to test several values of sample sizes in one call. \n",
    "\n",
    "We put the code above in a function called `ttest_power` so that we can pass it to the `sapply`function. "
   ]
  },
  {
   "cell_type": "code",
   "execution_count": 44,
   "id": "e2cfc55a-549f-499c-b828-9fda6a3f934e",
   "metadata": {},
   "outputs": [],
   "source": [
    "# put together into a function\n",
    "ttest_power <- function(seed = 28, S=1000, n = 20, mu = 0, sigma = 1, mu0 = 0.1){\n",
    "    set.seed(seed)\n",
    "    # function to generate data from the normal distribution\n",
    "    generate.normal <- function(S,n,mu,sigma){\n",
    "      \n",
    "      data <- matrix(rnorm(n*S,mu,sigma), ncol = n, byrow = T) \n",
    "      return(data)\n",
    "    }\n",
    "    \n",
    "    # generate data from normal\n",
    "    data <- generate.normal(S, n, mu, sigma)\n",
    "    \n",
    "    # calculate test statistic \n",
    "    ttest_statistic <- (apply(data, 1, mean) - mu0) / sqrt(apply(data, 1, var) / n)\n",
    "    \n",
    "    # rejection area in the t-distribution\n",
    "    t05 <- qt(0.975, n-1)\n",
    "    \n",
    "    # calculate power of test\n",
    "    power <- sum(abs(ttest_statistic)>t05)/S\n",
    "    \n",
    "    return(power)\n",
    "}\n"
   ]
  },
  {
   "cell_type": "markdown",
   "id": "1b06bf8a-9e93-4328-b762-04f7ea1e009a",
   "metadata": {},
   "source": [
    "We create a vector of different sample sizes that we will test in the function. We can manipulate any of the parameters in the `ttest_function` depending on what we wish to test. In this case we run the function with different values of sample size, `n`. "
   ]
  },
  {
   "cell_type": "code",
   "execution_count": 26,
   "id": "2caa0493-f1cd-4ec0-800b-d88239d4c6c0",
   "metadata": {},
   "outputs": [
    {
     "data": {
      "text/html": [
       "<style>\n",
       ".dl-inline {width: auto; margin:0; padding: 0}\n",
       ".dl-inline>dt, .dl-inline>dd {float: none; width: auto; display: inline-block}\n",
       ".dl-inline>dt::after {content: \":\\0020\"; padding-right: .5ex}\n",
       ".dl-inline>dt:not(:first-of-type) {padding-left: .5ex}\n",
       "</style><dl class=dl-inline><dt>10</dt><dd>0.311</dd><dt>15</dt><dd>0.448</dd><dt>20</dt><dd>0.563</dd><dt>25</dt><dd>0.676</dd><dt>30</dt><dd>0.748</dd><dt>35</dt><dd>0.82</dd><dt>40</dt><dd>0.868</dd></dl>\n"
      ],
      "text/latex": [
       "\\begin{description*}\n",
       "\\item[10] 0.311\n",
       "\\item[15] 0.448\n",
       "\\item[20] 0.563\n",
       "\\item[25] 0.676\n",
       "\\item[30] 0.748\n",
       "\\item[35] 0.82\n",
       "\\item[40] 0.868\n",
       "\\end{description*}\n"
      ],
      "text/markdown": [
       "10\n",
       ":   0.31115\n",
       ":   0.44820\n",
       ":   0.56325\n",
       ":   0.67630\n",
       ":   0.74835\n",
       ":   0.8240\n",
       ":   0.868\n",
       "\n"
      ],
      "text/plain": [
       "   10    15    20    25    30    35    40 \n",
       "0.311 0.448 0.563 0.676 0.748 0.820 0.868 "
      ]
     },
     "metadata": {},
     "output_type": "display_data"
    }
   ],
   "source": [
    "# vector with sample sizes we wish to evaluate\n",
    "sample_size <- c(10, 15, 20, 25, 30, 35, 40)\n",
    "\n",
    "# use sapply to test different sample sizes in the ttest_power function\n",
    "power <- sapply(sample_size, function(x)ttest_power(S = 1000, n = x, mu = 0, sigma = 1, mu0 = 0.5))\n",
    "\n",
    "#add sample sizes as names to the result\n",
    "names(power) <- sample_size\n",
    "power"
   ]
  },
  {
   "cell_type": "markdown",
   "id": "dd6e84d3-d593-46ac-9da6-5a7b04c72277",
   "metadata": {},
   "source": [
    "If we have data with mean 0 and standard deviation 1, and test against a null hypothesis mean of 0.5, we must have a sample size of at least 35 to obtain power higher than 80%. We can see that if our sample size is 20, the probability of detecting the true difference is only 56%.\n",
    "\n",
    "## Example: Produce several plots\n",
    "\n",
    "`apply` can also be used to produce several plots in one call. If we want to view the distribution of some generated data we can do this using apply."
   ]
  },
  {
   "cell_type": "code",
   "execution_count": 31,
   "id": "9d6f6e28-4f7f-46c8-9f7b-a71de9520489",
   "metadata": {},
   "outputs": [
    {
     "data": {
      "image/png": "[encoded data removed]",
      "text/plain": [
       "Plot with title “Histogram of newX[, i]”"
      ]
     },
     "metadata": {
      "image/png": {
       "height": 420,
       "width": 420
      }
     },
     "output_type": "display_data"
    }
   ],
   "source": [
    "# generate four samples of 1000 random variable from the normal distribution\n",
    "random_normal <- generate.normal(S = 4, n = 1000, mu = 0, sigma = 1)\n",
    "\n",
    "# display plots 2 by 2\n",
    "par(mfrow=c(2,2))\n",
    "\n",
    "# samples are stored row wise, so we call margin = 1\n",
    "plots <- apply(random_normal, 1, hist)"
   ]
  },
  {
   "cell_type": "markdown",
   "id": "49a8859b-d23e-4f32-b1aa-31929ba9b55e",
   "metadata": {},
   "source": [
    "So these are just a few examples of how the `*apply` family can make plenty of calculations in just a couple of lines of code! I really find the `*apply`-functions super useful!"
   ]
  }
 ],
 "metadata": {
  "kernelspec": {
   "display_name": "R",
   "language": "R",
   "name": "ir"
  },
  "language_info": {
   "codemirror_mode": "r",
   "file_extension": ".r",
   "mimetype": "text/x-r-source",
   "name": "R",
   "pygments_lexer": "r",
   "version": "4.1.2"
  }
 },
 "nbformat": 4,
 "nbformat_minor": 5
}
